{
 "cells": [
  {
   "cell_type": "code",
   "execution_count": 1,
   "id": "cc72422a-17a8-438f-9fbc-e4fefd5f99cb",
   "metadata": {},
   "outputs": [],
   "source": [
    "!pip install -q google-generativeai==0.3.1"
   ]
  },
  {
   "cell_type": "code",
   "execution_count": 2,
   "id": "97a30eb4-e792-44d7-8ef6-b70812df0545",
   "metadata": {},
   "outputs": [],
   "source": [
    "import google.generativeai as genai\n",
    "from pathlib import Path\n",
    "import sqlite3"
   ]
  },
  {
   "cell_type": "code",
   "execution_count": 5,
   "id": "c2032cdb-e28d-452e-9353-d643d4099f26",
   "metadata": {},
   "outputs": [
    {
     "data": {
      "text/plain": [
       "'0.3.1'"
      ]
     },
     "execution_count": 5,
     "metadata": {},
     "output_type": "execute_result"
    }
   ],
   "source": [
    "genai.__version__"
   ]
  },
  {
   "cell_type": "code",
   "execution_count": 7,
   "id": "72d0cee4-aa95-4108-b5f5-e832473166f6",
   "metadata": {},
   "outputs": [],
   "source": [
    "import json\n",
    "\n",
    "\n",
    "with open('config.json') as f:\n",
    "    userdata = json.load(f)\n",
    "\n",
    "genai.configure(api_key=userdata.get('Generative_Language_Client'))"
   ]
  },
  {
   "cell_type": "code",
   "execution_count": 9,
   "id": "0e701c93-eedb-434f-b2c5-097c9faf8bba",
   "metadata": {},
   "outputs": [],
   "source": [
    "generation_config = {\n",
    "  \"temperature\": 0.4,\n",
    "  \"top_p\": 1,\n",
    "  \"top_k\": 32,\n",
    "  \"max_output_tokens\": 4096,\n",
    "}\n",
    "\n",
    "safety_settings = [\n",
    "  {\n",
    "    \"category\": \"HARM_CATEGORY_HARASSMENT\",\n",
    "    \"threshold\": \"BLOCK_MEDIUM_AND_ABOVE\"\n",
    "  },\n",
    "  {\n",
    "    \"category\": \"HARM_CATEGORY_HATE_SPEECH\",\n",
    "    \"threshold\": \"BLOCK_MEDIUM_AND_ABOVE\"\n",
    "  },\n",
    "  {\n",
    "    \"category\": \"HARM_CATEGORY_SEXUALLY_EXPLICIT\",\n",
    "    \"threshold\": \"BLOCK_MEDIUM_AND_ABOVE\"\n",
    "  },\n",
    "  {\n",
    "    \"category\": \"HARM_CATEGORY_DANGEROUS_CONTENT\",\n",
    "    \"threshold\": \"BLOCK_MEDIUM_AND_ABOVE\"\n",
    "  }\n",
    "]"
   ]
  },
  {
   "cell_type": "code",
   "execution_count": 11,
   "id": "18563141-f6c4-44c0-933e-3440cbfc70dd",
   "metadata": {},
   "outputs": [],
   "source": [
    "model = genai.GenerativeModel(model_name = \"gemini-pro\",\n",
    "                              generation_config = generation_config,\n",
    "                              safety_settings = safety_settings)"
   ]
  },
  {
   "cell_type": "code",
   "execution_count": 13,
   "id": "f69d6cd5-3d6a-4055-a8f0-41a4f304554e",
   "metadata": {},
   "outputs": [],
   "source": [
    "\n",
    "def read_sql_query(sql, db):\n",
    "    conn = sqlite3.connect(db)\n",
    "    cur = conn.cursor()\n",
    "    cur.execute(sql)\n",
    "    rows = cur.fetchall()\n",
    "    for row in rows:\n",
    "        print(row)\n",
    "    conn.close()\n"
   ]
  },
  {
   "cell_type": "code",
   "execution_count": 15,
   "id": "df8e6815-f387-4f6f-aa8e-7f7bcef8a2b8",
   "metadata": {},
   "outputs": [
    {
     "name": "stdout",
     "output_type": "stream",
     "text": [
      "('IT Support', 33)\n"
     ]
    }
   ],
   "source": [
    "read_sql_query(\"SELECT department, COUNT(*) AS issue_count\\nFROM it_tickets\\nGROUP BY department\\nORDER BY issue_count DESC\\nLIMIT 1;\",\n",
    "               \"it_tickets_db.sqlite\")"
   ]
  },
  {
   "cell_type": "code",
   "execution_count": 17,
   "id": "a5e1fbeb-cb2c-4bcc-8c3a-9047ab7cbbaa",
   "metadata": {},
   "outputs": [],
   "source": [
    "# prompt_parts_1 = [\n",
    "#   \"You are an expert in converting English questions to SQL code! The SQL database has the name fashion_products and has the following columns - user_id, product_id, product_name, brand, category, price, color, and size.\\n\\nFor example,\\nExample 1 - How many entries of Adidas are present?, the SQL command will be something like this\\n``` SELECT COUNT(*) FROM fashion_products WHERE brand = 'Adidas';\\n```\\n\\nExample 2 - How many XL products of Nike are there that have a rating of more than 4?\\n```\\nSELECT COUNT(*) FROM fashion_products WHERE brand = 'Nike' AND size = 'XL' AND \\\"Rating\\\" > 4;\\n```\\n\\nExample 3 - \\n```\\nSELECT product_name FROM fashion_products WHERE price = (SELECT MAX(price) FROM fashion_products);\\n```\\n\\nDont include ``` and \\n in the output\",\n",
    "# ]\n",
    "\n",
    "prompt_parts_1 = [\n",
    "    \"You are an expert in converting English questions to SQL code! The SQL database has the name it_tickets and has the following columns - ticket_id, date_opened, issue_type, priority, assigned_to, status, date_closed, department, and description.\\n\\nFor example,\\nExample 1 - How many open tickets are there?, the SQL command will be something like this\\nSELECT COUNT(*) FROM it_tickets WHERE status = 'Open';\\n\\nExample 2 - How many high-priority tickets have been assigned to John Doe?\\nSELECT COUNT(*) FROM it_tickets WHERE priority = 'High' AND assigned_to = 'John Doe';\\n\\nExample 3 - Which ticket has been open for the longest time?\\nSELECT ticket_id FROM it_tickets WHERE date_opened = (SELECT MIN(date_opened) FROM it_tickets) AND status = 'Open';\\n\\nExample 4 - How many tickets were closed in the Finance department?\\nSELECT COUNT(*) FROM it_tickets WHERE department = 'Finance' AND status = 'Closed';\\n\\nExample 5 - List the description of tickets assigned to Sarah Chen that are still in progress?\\nSELECT description FROM it_tickets WHERE assigned_to = 'Sarah Chen' AND status = 'In Progress';\\n\\nExample 6 - How many tickets have been closed with a priority of 'Low'?\\nSELECT COUNT(*) FROM it_tickets WHERE status = 'Closed' AND priority = 'Low';\\n\\nExample 7 - What are the departments with the most number of high-priority tickets?\\nSELECT department, COUNT(*) FROM it_tickets WHERE priority = 'High' GROUP BY department ORDER BY COUNT(*) DESC;\\n\\nExample 8 - Which tickets have been assigned to both John Doe and Michael Lee at some point?\\nSELECT ticket_id FROM it_tickets WHERE assigned_to IN ('John Doe', 'Michael Lee') GROUP BY ticket_id HAVING COUNT(DISTINCT assigned_to) = 2;\\n\\nExample 9 - What is the average time taken to close high-priority tickets?\\nSELECT AVG(JULIANDAY(date_closed) - JULIANDAY(date_opened)) AS avg_time FROM it_tickets WHERE priority = 'High' AND status = 'Closed';\\n\\nExample 10 - List all tickets that were opened before March 2024 but are still not closed?\\nSELECT * FROM it_tickets WHERE date_opened < '2024-03-01' AND status != 'Closed';\"\n",
    "]\n"
   ]
  },
  {
   "cell_type": "code",
   "execution_count": 19,
   "id": "6bab61c6-a852-4ca9-b364-0dedf60f0607",
   "metadata": {},
   "outputs": [],
   "source": [
    "question = \"Tell me the most issue facing department ?\""
   ]
  },
  {
   "cell_type": "code",
   "execution_count": 21,
   "id": "41f950ba-576c-49b1-99b2-0144c90e964c",
   "metadata": {},
   "outputs": [
    {
     "data": {
      "text/plain": [
       "'```sql\\nSELECT department, COUNT(*) AS issue_count\\nFROM it_tickets\\nGROUP BY department\\nORDER BY issue_count DESC\\nLIMIT 1;\\n```'"
      ]
     },
     "execution_count": 21,
     "metadata": {},
     "output_type": "execute_result"
    }
   ],
   "source": [
    "prompt_parts = [prompt_parts_1[0], question]\n",
    "response = model.generate_content(prompt_parts)\n",
    "response.text"
   ]
  },
  {
   "cell_type": "code",
   "execution_count": 23,
   "id": "8f4710b2-7f03-4125-a8e6-b76dd3ec1339",
   "metadata": {},
   "outputs": [
    {
     "name": "stdout",
     "output_type": "stream",
     "text": [
      "('IT Support', 33)\n"
     ]
    }
   ],
   "source": [
    "read_sql_query(\"SELECT department, COUNT(*) AS issue_count\\nFROM it_tickets\\nGROUP BY department\\nORDER BY issue_count DESC\\nLIMIT 1;\",\n",
    "               \"it_tickets_db.sqlite\")"
   ]
  },
  {
   "cell_type": "code",
   "execution_count": 39,
   "id": "d809ef3d-4083-4886-8461-720bc3f4fb2b",
   "metadata": {},
   "outputs": [],
   "source": [
    "def generate_gemini_response(question, input_prompt):\n",
    "    prompt_parts = [input_prompt, question]\n",
    "\n",
    "    response = model.generate_content(prompt_parts)\n",
    "\n",
    "    query = response.text.strip().replace('```sql', '').replace('```', '')\n",
    "\n",
    "    print(f\"Interpreted Query: {question}\")\n",
    "    \n",
    "    print(f\"Technical Filter (SQL Query):\\n{query}\")\n",
    "\n",
    "    refine = input(\"Would you like to refine the SQL query? (yes/no): \").lower()\n",
    "    \n",
    "    if refine == 'yes':\n",
    "        query = input(\"Please enter the adjusted SQL query: \")\n",
    "\n",
    "    output = read_sql_query(query, \"it_tickets_db.sqlite\")\n",
    "\n",
    "    return output"
   ]
  },
  {
   "cell_type": "code",
   "execution_count": 37,
   "id": "9342a7f8-8078-4b8e-838a-2b440e9f3324",
   "metadata": {},
   "outputs": [
    {
     "name": "stdout",
     "output_type": "stream",
     "text": [
      "Interpreted Query: List the descriptions of tickets assigned to Sarah Chen that are still in progress ?\n",
      "Technical Filter (SQL Query):\n",
      "\n",
      "SELECT description\n",
      "FROM it_tickets\n",
      "WHERE assigned_to = 'Sarah Chen'\n",
      "AND status = 'In Progress';\n",
      "\n"
     ]
    },
    {
     "name": "stdout",
     "output_type": "stream",
     "text": [
      "Would you like to refine the SQL query? (yes/no):  no\n"
     ]
    },
    {
     "name": "stdout",
     "output_type": "stream",
     "text": [
      "('Printer not working',)\n",
      "('Unable to access database',)\n",
      "('Need new software installed',)\n",
      "('Wi-Fi connection unstable',)\n",
      "('Wi-Fi connection unstable',)\n",
      "('Wi-Fi connection unstable',)\n",
      "('Unable to log into system',)\n",
      "<class 'NoneType'>\n"
     ]
    }
   ],
   "source": [
    "generate_gemini_response(\"List the descriptions of tickets assigned to Sarah Chen that are still in progress ?\",\n",
    "                         prompt_parts_1[0])"
   ]
  }
 ],
 "metadata": {
  "kernelspec": {
   "display_name": "Python 3 (ipykernel)",
   "language": "python",
   "name": "python3"
  },
  "language_info": {
   "codemirror_mode": {
    "name": "ipython",
    "version": 3
   },
   "file_extension": ".py",
   "mimetype": "text/x-python",
   "name": "python",
   "nbconvert_exporter": "python",
   "pygments_lexer": "ipython3",
   "version": "3.12.4"
  }
 },
 "nbformat": 4,
 "nbformat_minor": 5
}
